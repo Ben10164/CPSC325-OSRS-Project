{
 "cells": [
  {
   "attachments": {},
   "cell_type": "markdown",
   "metadata": {},
   "source": [
    "## Test"
   ]
  },
  {
   "cell_type": "code",
   "execution_count": null,
   "metadata": {},
   "outputs": [],
   "source": [
    "import NameIDHelper\n",
    "\n",
    "assert (NameIDHelper.NameToID(\"Abyssal whip\") == 4151)\n",
    "assert (NameIDHelper.NameToID(\"Twisted bow\") == 20997)\n",
    "assert (NameIDHelper.NameToID(\"Osmumten's fang\") == 26219)\n",
    "\n",
    "assert (NameIDHelper.IdToName(4151) == \"Abyssal whip\")\n",
    "assert (NameIDHelper.IdToName(20997) == \"Twisted bow\")\n",
    "assert (NameIDHelper.IdToName(26219) == \"Osmumten's fang\")"
   ]
  },
  {
   "attachments": {},
   "cell_type": "markdown",
   "metadata": {},
   "source": [
    "## How does NameIDHelper work?"
   ]
  },
  {
   "attachments": {},
   "cell_type": "markdown",
   "metadata": {},
   "source": [
    "##### First I want the program to import some modules\n",
    "\n",
    "```py\n",
    "import requests\n",
    "import pandas as pd\n",
    "```\n",
    "\n",
    "##### Now the program will read the locally stored json containing the mappings from ID to names\n",
    "\n",
    "```py\n",
    "# Creating df with json data instead of calling the API\n",
    "# this is to lower the amount of calls needed for this helper function!\n",
    "mapping_df = pd.read_json('Data/NameIDMap.json')\n",
    "```\n",
    "\n",
    "##### Now the program can drop some cols that wont be used for this\n",
    "\n",
    "```py\n",
    "# we are going to drop the useless cols that we wont be needing\n",
    "mapping_df = mapping_df.drop(\n",
    "    columns=['examine', 'lowalch', 'limit', 'value', 'highalch', 'icon', 'members'])\n",
    "```\n",
    "\n",
    "##### Now the program can directly create the two dicts (name->ID, ID->name)\n",
    "\n",
    "```py\n",
    "name_dict = mapping_df.set_index('name')['id'].to_dict()\n",
    "id_dict = mapping_df.set_index('id')['name'].to_dict()\n",
    "```\n",
    "\n",
    "##### These are the actual helper functions that returns the result\n",
    "\n",
    "```py\n",
    "def NameToID(name):\n",
    "    return name_dict[name]\n",
    "\n",
    "\n",
    "def IdToName(id):\n",
    "    return id_dict[id]\n",
    "```\n",
    "\n",
    "##### Although to minimize the amount of API calls the program uses a locally stored database, it is sometimes necessary to update the local database, a new update for example.\n",
    "\n",
    "```py\n",
    "# This function will update the locally stored JSON\n",
    "def UpdateJson():\n",
    "    url = 'https://prices.runescape.wiki/api/v1/osrs/mapping'\n",
    "    # we want the latest data, so lets add that to the url\n",
    "\n",
    "    headers = {\n",
    "        # the wiki blocks all common user-agents in order to prevent spam\n",
    "        # after talking with some of the API maintainers over discord \n",
    "        # they asked me to include my discord in the user-agent\n",
    "        'User-Agent': 'Item_ID_Helper_Functions - @Be#9998',\n",
    "    }\n",
    "\n",
    "    response_json = requests.get(url, headers=headers).text\n",
    "    f = open('Data/NameIDMap.json', 'w')\n",
    "    import json\n",
    "    mydata = json.loads(response_json)\n",
    "    f.write(json.dumps(mydata, indent=4))\n",
    "    f.close()\n",
    "```"
   ]
  }
 ],
 "metadata": {
  "kernelspec": {
   "display_name": "Python 3",
   "language": "python",
   "name": "python3"
  },
  "language_info": {
   "codemirror_mode": {
    "name": "ipython",
    "version": 3
   },
   "file_extension": ".py",
   "mimetype": "text/x-python",
   "name": "python",
   "nbconvert_exporter": "python",
   "pygments_lexer": "ipython3",
   "version": "3.10.9"
  },
  "orig_nbformat": 4
 },
 "nbformat": 4,
 "nbformat_minor": 2
}
